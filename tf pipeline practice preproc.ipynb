{
 "cells": [
  {
   "cell_type": "code",
   "execution_count": 1,
   "id": "072a161e-d1be-4f3a-a2c5-fd28cfbfce37",
   "metadata": {},
   "outputs": [],
   "source": [
    "import tensorflow as tf"
   ]
  },
  {
   "cell_type": "code",
   "execution_count": 18,
   "id": "446c7414-89ec-4fcc-93c0-dbf1374e105e",
   "metadata": {},
   "outputs": [],
   "source": [
    "reviews_ds = tf.data.Dataset.list_files('csvs/reviews/*/*', shuffle=False)"
   ]
  },
  {
   "cell_type": "code",
   "execution_count": 19,
   "id": "d79b8f54-d536-4bcf-8cb6-2e7b3c7aa411",
   "metadata": {},
   "outputs": [
    {
     "name": "stdout",
     "output_type": "stream",
     "text": [
      "b'csvs\\\\reviews\\\\negative\\\\neg_1.txt'\n",
      "b'csvs\\\\reviews\\\\negative\\\\neg_2.txt'\n",
      "b'csvs\\\\reviews\\\\negative\\\\neg_3.txt'\n",
      "b'csvs\\\\reviews\\\\positive\\\\pos_1.txt'\n",
      "b'csvs\\\\reviews\\\\positive\\\\pos_2.txt'\n",
      "b'csvs\\\\reviews\\\\positive\\\\pos_3.txt'\n"
     ]
    }
   ],
   "source": [
    "for file in reviews_ds.as_numpy_iterator():\n",
    "    print(file)"
   ]
  },
  {
   "cell_type": "markdown",
   "id": "7c776eb4-989d-4b15-a07e-f477a4148ac3",
   "metadata": {},
   "source": [
    "# Extract review text from these files. Extract label from folder name"
   ]
  },
  {
   "cell_type": "code",
   "execution_count": 20,
   "id": "e600e58c-5d31-45f1-bc70-59239d71ac57",
   "metadata": {},
   "outputs": [],
   "source": [
    "import os\n",
    "def extract_label_text(file_path):\n",
    "    return tf.io.read_file(file_path), tf.strings.split(file_path, os.path.sep)[-2]"
   ]
  },
  {
   "cell_type": "code",
   "execution_count": 27,
   "id": "27bef9b3-a80a-4cdc-886d-e438ffd2fb1a",
   "metadata": {},
   "outputs": [
    {
     "name": "stdout",
     "output_type": "stream",
     "text": [
      "Review:  b\"Basically there's a family where a little boy (Jak\"\n",
      "Label:  b'negative'\n",
      "Review:  b'This show was an amazing, fresh & innovative idea '\n",
      "Label:  b'negative'\n",
      "Review:  b''\n",
      "Label:  b'negative'\n",
      "Review:  b'One of the other reviewers has mentioned that afte'\n",
      "Label:  b'positive'\n",
      "Review:  b'A wonderful little production. <br /><br />The fil'\n",
      "Label:  b'positive'\n",
      "Review:  b''\n",
      "Label:  b'positive'\n"
     ]
    }
   ],
   "source": [
    "reviews1_ds = reviews_ds.map(extract_label_text)\n",
    "for review, label in reviews1_ds:\n",
    "    print(\"Review: \",review.numpy()[:50])\n",
    "    print(\"Label: \",label.numpy())"
   ]
  },
  {
   "cell_type": "markdown",
   "id": "fd942d4a-d332-41a4-b9f4-b42263cb1ee8",
   "metadata": {},
   "source": [
    "# Filter blank reviews"
   ]
  },
  {
   "cell_type": "code",
   "execution_count": 29,
   "id": "c8e690d2-e709-4d92-b019-a594c82e7722",
   "metadata": {},
   "outputs": [],
   "source": [
    "tf_dataset = reviews1_ds.filter(lambda review, labels: review != \"\")"
   ]
  },
  {
   "cell_type": "code",
   "execution_count": 34,
   "id": "299cb6b8-e178-4dd3-8574-c1b4b341aca8",
   "metadata": {},
   "outputs": [
    {
     "name": "stdout",
     "output_type": "stream",
     "text": [
      "Review:  b\"Basically there's a family where a little boy (Jak\"\n",
      "Label:  b'negative'\n",
      "Review:  b'This show was an amazing, fresh & innovative idea '\n",
      "Label:  b'negative'\n",
      "Review:  b'One of the other reviewers has mentioned that afte'\n",
      "Label:  b'positive'\n",
      "Review:  b'A wonderful little production. <br /><br />The fil'\n",
      "Label:  b'positive'\n"
     ]
    }
   ],
   "source": [
    "for review, label in tf_dataset.as_numpy_iterator():\n",
    "    print(\"Review: \",review[:50])\n",
    "    print(\"Label: \",label)"
   ]
  },
  {
   "cell_type": "markdown",
   "id": "e7fbe288-914a-4129-9cee-b776908e9040",
   "metadata": {},
   "source": [
    "# In one line"
   ]
  },
  {
   "cell_type": "code",
   "execution_count": 43,
   "id": "d70ea8e5-05f0-4c0b-835f-f9e140b8a1f9",
   "metadata": {},
   "outputs": [
    {
     "name": "stdout",
     "output_type": "stream",
     "text": [
      "Review: b'This show was an amazing, fresh & innovative idea '\n",
      "Label: b'negative'\n"
     ]
    }
   ],
   "source": [
    "final_ds =  reviews_ds.map(extract_label_text).filter(lambda review, labels: review != \"\").shuffle(3).take(1)\n",
    "for review, label in final_ds.as_numpy_iterator():\n",
    "    print(\"Review:\",review[:50])\n",
    "    print(\"Label:\",label)"
   ]
  },
  {
   "cell_type": "code",
   "execution_count": null,
   "id": "bee5f208-8000-4117-b101-d4f955946447",
   "metadata": {},
   "outputs": [],
   "source": []
  }
 ],
 "metadata": {
  "kernelspec": {
   "display_name": "Python 3 (ipykernel)",
   "language": "python",
   "name": "python3"
  },
  "language_info": {
   "codemirror_mode": {
    "name": "ipython",
    "version": 3
   },
   "file_extension": ".py",
   "mimetype": "text/x-python",
   "name": "python",
   "nbconvert_exporter": "python",
   "pygments_lexer": "ipython3",
   "version": "3.11.5"
  }
 },
 "nbformat": 4,
 "nbformat_minor": 5
}
